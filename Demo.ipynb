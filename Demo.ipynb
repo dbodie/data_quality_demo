{
 "cells": [
  {
   "cell_type": "markdown",
   "id": "03acf183-7a8a-499e-9039-f0e9fb613f3e",
   "metadata": {},
   "source": [
    "# Automate Data Quality with an LLM"
   ]
  },
  {
   "cell_type": "code",
   "execution_count": 1,
   "id": "3b9c2063-8025-4ec2-8e71-530d6e5159bc",
   "metadata": {},
   "outputs": [],
   "source": [
    "from DQAgent import DQAgent\n",
    "import json\n",
    "agent = DQAgent()"
   ]
  },
  {
   "cell_type": "markdown",
   "id": "b7f7df3c-7742-4399-a74d-4b980801a391",
   "metadata": {},
   "source": [
    "### Provide some sample data (10 Records)"
   ]
  },
  {
   "cell_type": "code",
   "execution_count": 2,
   "id": "05df07e7-2b89-4ab3-96c9-95c0cfd859f6",
   "metadata": {},
   "outputs": [],
   "source": [
    "sample_data =\"\"\"[\n",
    "    {\n",
    "        \"order_date\": \"2023-01-01\", \n",
    "        \"order_id\": 1000101, \n",
    "        \"customer_name\": \"\", \n",
    "        \"address\": \"456 Elm St\", \n",
    "        \"zip_code\": 54321, \n",
    "        \"state_abbr\": \"CA\", \n",
    "        \"order_amount\": 75.25\n",
    "    },\n",
    "    {\n",
    "        \"order_date\": \"2023-01-02\", \n",
    "        \"order_id\": 1000102, \n",
    "        \"customer_name\": \"Bob Johnson\", \n",
    "        \"address\": \"789 Oak St\", \n",
    "        \"zip_code\": 67890, \n",
    "        \"state_abbr\": \"TX\", \n",
    "        \"order_amount\": 50.00\n",
    "    },    \n",
    "    {\n",
    "        \"order_date\": \"2023-01-01\", \n",
    "        \"order_id\": 1000103, \n",
    "        \"customer_name\": \"Emily Davis\",\n",
    "        \"address\": \"101 Pine St\", \n",
    "        \"zip_code\": 13579, \n",
    "        \"state_abbr\": \"FL\", \n",
    "        \"order_amount\": 125.75\n",
    "    },    \n",
    "    {\n",
    "        \"order_date\": \"2023-01-02\", \n",
    "        \"order_id\": 1000104, \n",
    "        \"customer_name\": \"Michael Wilson\", \n",
    "        \"address\": \"202 Maple St\", \n",
    "        \"zip_code\": 24680, \n",
    "        \"state_abbr\": \"GA\", \n",
    "        \"order_amount\": 99.99\n",
    "    },    \n",
    "    {\n",
    "        \"order_date\": \"2023-01-01\", \n",
    "        \"order_id\": 1000105, \n",
    "        \"customer_name\": \"Sarah Brown\", \n",
    "        \"address\": \"303 Cedar St\", \n",
    "        \"zip_code\": 98765, \n",
    "        \"state_abbr\": \"OH\", \n",
    "        \"order_amount\": 150.50\n",
    "    },    \n",
    "    {\n",
    "        \"order_date\": \"2023-01-02\", \n",
    "        \"order_id\": 1000106, \n",
    "        \"customer_name\": \"David Martinez\", \n",
    "        \"address\": \"404 Birch St\", \n",
    "        \"zip_code\": 11223, \n",
    "        \"state_abbr\": \"AZ\", \n",
    "        \"order_amount\": 200.00\n",
    "    },    \n",
    "    {\n",
    "        \"order_date\": \"2023-01-01\", \n",
    "        \"order_id\": 1000107, \n",
    "        \"customer_name\": \"Laura Garcia\", \n",
    "        \"address\": \"505 Walnut St\", \n",
    "        \"zip_code\": 33445, \n",
    "        \"state_abbr\": \"NC\", \n",
    "        \"order_amount\": 175.25\n",
    "    },   \n",
    "    {\n",
    "        \"order_date\": \"2023-01-02\",\n",
    "        \"order_id\": 1000108, \n",
    "        \"customer_name\": \"Kevin Lee\", \n",
    "        \"address\": \"606 Pineapple St\", \n",
    "        \"zip_code\": 55667, \n",
    "        \"state_abbr\": \"WA\", \n",
    "        \"order_amount\": 99.99\n",
    "    },    \n",
    "    {\n",
    "        \"order_date\": \"2023-01-01\", \n",
    "        \"order_id\": 1000109, \n",
    "        \"customer_name\": \"Jessica Rodriguez\", \n",
    "        \"address\": \"707 Orange St\", \n",
    "        \"zip_code\": 77889, \n",
    "        \"state_abbr\": \"IL\", \n",
    "        \"order_amount\": 125.75\n",
    "    },   \n",
    "    {\n",
    "        \"order_date\": \"2023-01-02\", \n",
    "        \"order_id\": 1000110, \n",
    "        \"customer_name\": \"Chris Nguyen\", \n",
    "        \"address\": \"808 Lemon St\", \n",
    "        \"zip_code\": 99001, \n",
    "        \"state_abbr\": \"MI\", \"order_amount\": 150.50\n",
    "    }]\"\"\""
   ]
  },
  {
   "cell_type": "markdown",
   "id": "42ab0c81-4c7e-4046-95f4-e800e6537901",
   "metadata": {},
   "source": [
    "### Run The Agent "
   ]
  },
  {
   "cell_type": "code",
   "execution_count": 3,
   "id": "ce1e3313-2ab2-4cb3-a259-0d43111e21d8",
   "metadata": {},
   "outputs": [
    {
     "name": "stdout",
     "output_type": "stream",
     "text": [
      "{\n",
      "    \"results\": [\n",
      "        {\n",
      "            \"rule_definition\": \"Order date should be in the format 'YYYY-MM-DD'.\",\n",
      "            \"sql_query\": \"SELECT COUNT(*) = COUNT(CASE WHEN strftime('%Y-%m-%d', order_date) IS NOT NULL THEN 1 END) FROM Orders;\",\n",
      "            \"result\": true\n",
      "        },\n",
      "        {\n",
      "            \"rule_definition\": \"Order ID should be unique for each order.\",\n",
      "            \"sql_query\": \"SELECT COUNT(DISTINCT order_id) = COUNT(*) FROM Orders;\",\n",
      "            \"result\": true\n",
      "        },\n",
      "        {\n",
      "            \"rule_definition\": \"Customer name should not be empty.\",\n",
      "            \"sql_query\": \"SELECT COUNT(*) = COUNT(CASE WHEN customer_name <> '' THEN 1 END) FROM Orders;\",\n",
      "            \"result\": false\n",
      "        },\n",
      "        {\n",
      "            \"rule_definition\": \"Address should be a valid street address.\",\n",
      "            \"sql_query\": \"SELECT COUNT(*) = COUNT(CASE WHEN address <> '' THEN 1 END) FROM Orders;\",\n",
      "            \"result\": true\n",
      "        },\n",
      "        {\n",
      "            \"rule_definition\": \"Zip code should be a valid 5-digit number.\",\n",
      "            \"sql_query\": \"SELECT COUNT(*) = COUNT(CASE WHEN length(zip_code) = 5 AND zip_code NOT LIKE '%[^0-9]%' THEN 1 END) FROM Orders;\",\n",
      "            \"result\": true\n",
      "        },\n",
      "        {\n",
      "            \"rule_definition\": \"State abbreviation should be a valid 2-letter abbreviation.\",\n",
      "            \"sql_query\": \"SELECT COUNT(*) = COUNT(CASE WHEN length(state_abbr) = 2 AND state_abbr NOT LIKE '%[^A-Za-z]%' THEN 1 END) FROM Orders;\",\n",
      "            \"result\": true\n",
      "        },\n",
      "        {\n",
      "            \"rule_definition\": \"Order amount should be a positive number.\",\n",
      "            \"sql_query\": \"SELECT COUNT(*) = COUNT(CASE WHEN order_amount > 0 THEN 1 END) FROM Orders;\",\n",
      "            \"result\": true\n",
      "        }\n",
      "    ]\n",
      "}\n"
     ]
    }
   ],
   "source": [
    "#The second argument defaults to blank. Use the string \"rules\" or \"sql\" to produce an intermediate result.\n",
    "#\"rules\" produces the rules output.\n",
    "#\"SQL\" produces the SQL Statements\n",
    "response = agent.run(sample_data,)\n",
    "print(response)"
   ]
  },
  {
   "cell_type": "code",
   "execution_count": 4,
   "id": "8060b97f-9e9e-4af9-8b21-5c9545fefe74",
   "metadata": {},
   "outputs": [
    {
     "data": {
      "text/plain": [
       "CompletionUsage(completion_tokens=406, prompt_tokens=1565, total_tokens=1971)"
      ]
     },
     "execution_count": 4,
     "metadata": {},
     "output_type": "execute_result"
    }
   ],
   "source": [
    "agent.usage"
   ]
  },
  {
   "cell_type": "code",
   "execution_count": null,
   "id": "a43e8e44-a433-40bc-a730-f981711b14a5",
   "metadata": {},
   "outputs": [],
   "source": []
  }
 ],
 "metadata": {
  "kernelspec": {
   "display_name": "Python 3 (ipykernel)",
   "language": "python",
   "name": "python3"
  },
  "language_info": {
   "codemirror_mode": {
    "name": "ipython",
    "version": 3
   },
   "file_extension": ".py",
   "mimetype": "text/x-python",
   "name": "python",
   "nbconvert_exporter": "python",
   "pygments_lexer": "ipython3",
   "version": "3.10.10"
  }
 },
 "nbformat": 4,
 "nbformat_minor": 5
}
